{
 "cells": [
  {
   "cell_type": "code",
   "execution_count": 7,
   "id": "b68709f1",
   "metadata": {},
   "outputs": [],
   "source": [
    "from tools.mytools import get_weather"
   ]
  },
  {
   "cell_type": "code",
   "execution_count": 8,
   "id": "5ab00c67",
   "metadata": {},
   "outputs": [
    {
     "data": {
      "text/plain": [
       "{'coord': {'lon': 88.3697, 'lat': 22.5697},\n",
       " 'weather': [{'id': 804,\n",
       "   'main': 'Clouds',\n",
       "   'description': 'overcast clouds',\n",
       "   'icon': '04d'}],\n",
       " 'base': 'stations',\n",
       " 'main': {'temp': 307.7,\n",
       "  'feels_like': 313.53,\n",
       "  'temp_min': 307.7,\n",
       "  'temp_max': 307.7,\n",
       "  'pressure': 1000,\n",
       "  'humidity': 52,\n",
       "  'sea_level': 1000,\n",
       "  'grnd_level': 999},\n",
       " 'visibility': 10000,\n",
       " 'wind': {'speed': 2.65, 'deg': 219, 'gust': 2.8},\n",
       " 'clouds': {'all': 100},\n",
       " 'dt': 1750573490,\n",
       " 'sys': {'country': 'IN', 'sunrise': 1750548176, 'sunset': 1750596838},\n",
       " 'timezone': 19800,\n",
       " 'id': 1275004,\n",
       " 'name': 'Kolkata',\n",
       " 'cod': 200}"
      ]
     },
     "execution_count": 8,
     "metadata": {},
     "output_type": "execute_result"
    }
   ],
   "source": [
    "get_weather(\"Kolkata\")"
   ]
  },
  {
   "cell_type": "code",
   "execution_count": null,
   "id": "bdac285a",
   "metadata": {},
   "outputs": [],
   "source": []
  },
  {
   "cell_type": "code",
   "execution_count": null,
   "id": "0450d769",
   "metadata": {},
   "outputs": [],
   "source": []
  }
 ],
 "metadata": {
  "kernelspec": {
   "display_name": "base",
   "language": "python",
   "name": "python3"
  },
  "language_info": {
   "codemirror_mode": {
    "name": "ipython",
    "version": 3
   },
   "file_extension": ".py",
   "mimetype": "text/x-python",
   "name": "python",
   "nbconvert_exporter": "python",
   "pygments_lexer": "ipython3",
   "version": "3.12.4"
  }
 },
 "nbformat": 4,
 "nbformat_minor": 5
}
