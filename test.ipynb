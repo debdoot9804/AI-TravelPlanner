{
 "cells": [
  {
   "cell_type": "code",
   "execution_count": 1,
   "id": "b68709f1",
   "metadata": {},
   "outputs": [],
   "source": [
    "from tools.mytools import get_weather,search_hotel,add"
   ]
  },
  {
   "cell_type": "code",
   "execution_count": 2,
   "id": "5ab00c67",
   "metadata": {},
   "outputs": [
    {
     "data": {
      "text/plain": [
       "{'city': 'Chennai',\n",
       " 'temperature': 307.5,\n",
       " 'humidity': 54,\n",
       " 'weather': 'light rain'}"
      ]
     },
     "execution_count": 2,
     "metadata": {},
     "output_type": "execute_result"
    }
   ],
   "source": [
    "get_weather.invoke({\"city\":\"Chennai\"})"
   ]
  },
  {
   "cell_type": "code",
   "execution_count": 3,
   "id": "bdac285a",
   "metadata": {},
   "outputs": [
    {
     "name": "stdout",
     "output_type": "stream",
     "text": [
      "add two numbers\n"
     ]
    },
    {
     "data": {
      "text/plain": [
       "8.0"
      ]
     },
     "execution_count": 3,
     "metadata": {},
     "output_type": "execute_result"
    }
   ],
   "source": [
    "add.invoke({\"a\":5,\"b\":3})"
   ]
  },
  {
   "cell_type": "code",
   "execution_count": 4,
   "id": "0450d769",
   "metadata": {},
   "outputs": [
    {
     "data": {
      "text/plain": [
       "{'The Oberoi Grand, Kolkata': {'lowest': '$251',\n",
       "  'extracted_lowest': 251,\n",
       "  'before_taxes_fees': '$224',\n",
       "  'extracted_before_taxes_fees': 224},\n",
       " 'The LaLiT Great Eastern Kolkata': {'lowest': '$292',\n",
       "  'extracted_lowest': 292,\n",
       "  'before_taxes_fees': '$257',\n",
       "  'extracted_before_taxes_fees': 257},\n",
       " 'Hyatt Regency Kolkata': {'lowest': '$388',\n",
       "  'extracted_lowest': 388,\n",
       "  'before_taxes_fees': '$329',\n",
       "  'extracted_before_taxes_fees': 329},\n",
       " 'Raajkutir, Kolkata - IHCL SeleQtions': {'lowest': '$307',\n",
       "  'extracted_lowest': 307,\n",
       "  'before_taxes_fees': '$274',\n",
       "  'extracted_before_taxes_fees': 274},\n",
       " 'Barsana Boutique Hotel': {'lowest': '$183',\n",
       "  'extracted_lowest': 183,\n",
       "  'before_taxes_fees': '$160',\n",
       "  'extracted_before_taxes_fees': 160},\n",
       " 'Meraki Inn - Saltlake Kolkata': {'lowest': '$108',\n",
       "  'extracted_lowest': 108,\n",
       "  'before_taxes_fees': '$94',\n",
       "  'extracted_before_taxes_fees': 94},\n",
       " 'The Park Hotel': {'lowest': '$361',\n",
       "  'extracted_lowest': 361,\n",
       "  'before_taxes_fees': '$276',\n",
       "  'extracted_before_taxes_fees': 276},\n",
       " 'Hotel Radiant (Kolkata)': {'lowest': '$101',\n",
       "  'extracted_lowest': 101,\n",
       "  'before_taxes_fees': '$101',\n",
       "  'extracted_before_taxes_fees': 101},\n",
       " 'Peerless Hotel Kolkata': {'lowest': '$251',\n",
       "  'extracted_lowest': 251,\n",
       "  'before_taxes_fees': '$224',\n",
       "  'extracted_before_taxes_fees': 224},\n",
       " 'Hotel Hindusthan International': {'lowest': '$247',\n",
       "  'extracted_lowest': 247,\n",
       "  'before_taxes_fees': '$213',\n",
       "  'extracted_before_taxes_fees': 213},\n",
       " 'FabHotel Prime Kzar Corporate - Hotel in Sealdah, Kolkata': {'lowest': '$102',\n",
       "  'extracted_lowest': 102,\n",
       "  'before_taxes_fees': '$91',\n",
       "  'extracted_before_taxes_fees': 91},\n",
       " 'JW Marriott Hotel Kolkata': 'N/A',\n",
       " 'Aster Guest House Kolkata': {'lowest': '$145',\n",
       "  'extracted_lowest': 145,\n",
       "  'before_taxes_fees': '$127',\n",
       "  'extracted_before_taxes_fees': 127},\n",
       " 'The Panash (Hotel and Banquets)': {'lowest': '$151',\n",
       "  'extracted_lowest': 151,\n",
       "  'before_taxes_fees': '$134',\n",
       "  'extracted_before_taxes_fees': 134},\n",
       " 'Hotel Gallery 67': {'lowest': '$138',\n",
       "  'extracted_lowest': 138,\n",
       "  'before_taxes_fees': '$118',\n",
       "  'extracted_before_taxes_fees': 118},\n",
       " 'Golden Parkk Hotel': {'lowest': '$265',\n",
       "  'extracted_lowest': 265,\n",
       "  'before_taxes_fees': '$237',\n",
       "  'extracted_before_taxes_fees': 237},\n",
       " 'Roland Hotel': {'lowest': '$112',\n",
       "  'extracted_lowest': 112,\n",
       "  'before_taxes_fees': '$100',\n",
       "  'extracted_before_taxes_fees': 100},\n",
       " 'The Elgin Fairlawn - Kolkata - Heritage Hotel (Since 1783)': {'lowest': '$308',\n",
       "  'extracted_lowest': 308,\n",
       "  'before_taxes_fees': '$273',\n",
       "  'extracted_before_taxes_fees': 273}}"
      ]
     },
     "execution_count": 4,
     "metadata": {},
     "output_type": "execute_result"
    }
   ],
   "source": [
    "search_hotel.invoke({\"city\":\"Kolkata\",\"check_in\": \"2025-06-22\",\"check_out\":\"2025-06-26\",\"adults\": 2})"
   ]
  },
  {
   "cell_type": "code",
   "execution_count": null,
   "id": "53919129",
   "metadata": {},
   "outputs": [],
   "source": []
  }
 ],
 "metadata": {
  "kernelspec": {
   "display_name": "base",
   "language": "python",
   "name": "python3"
  },
  "language_info": {
   "codemirror_mode": {
    "name": "ipython",
    "version": 3
   },
   "file_extension": ".py",
   "mimetype": "text/x-python",
   "name": "python",
   "nbconvert_exporter": "python",
   "pygments_lexer": "ipython3",
   "version": "3.12.4"
  }
 },
 "nbformat": 4,
 "nbformat_minor": 5
}
