{
 "cells": [
  {
   "cell_type": "code",
   "execution_count": 1,
   "id": "b68709f1",
   "metadata": {},
   "outputs": [],
   "source": [
    "from tools.mytools import get_weather,search_hotel,add,search_attractions"
   ]
  },
  {
   "cell_type": "code",
   "execution_count": 2,
   "id": "5ab00c67",
   "metadata": {},
   "outputs": [
    {
     "data": {
      "text/plain": [
       "{'city': 'Chennai',\n",
       " 'temperature': 307.5,\n",
       " 'humidity': 54,\n",
       " 'weather': 'light rain'}"
      ]
     },
     "execution_count": 2,
     "metadata": {},
     "output_type": "execute_result"
    }
   ],
   "source": [
    "get_weather.invoke({\"city\":\"Chennai\"})"
   ]
  },
  {
   "cell_type": "code",
   "execution_count": 3,
   "id": "bdac285a",
   "metadata": {},
   "outputs": [
    {
     "name": "stdout",
     "output_type": "stream",
     "text": [
      "add two numbers\n"
     ]
    },
    {
     "data": {
      "text/plain": [
       "8.0"
      ]
     },
     "execution_count": 3,
     "metadata": {},
     "output_type": "execute_result"
    }
   ],
   "source": [
    "add.invoke({\"a\":5,\"b\":3})"
   ]
  },
  {
   "cell_type": "code",
   "execution_count": 4,
   "id": "0450d769",
   "metadata": {},
   "outputs": [
    {
     "data": {
      "text/plain": [
       "{'The Oberoi Grand, Kolkata': {'lowest': '$251',\n",
       "  'extracted_lowest': 251,\n",
       "  'before_taxes_fees': '$224',\n",
       "  'extracted_before_taxes_fees': 224},\n",
       " 'The LaLiT Great Eastern Kolkata': {'lowest': '$292',\n",
       "  'extracted_lowest': 292,\n",
       "  'before_taxes_fees': '$257',\n",
       "  'extracted_before_taxes_fees': 257},\n",
       " 'Hyatt Regency Kolkata': {'lowest': '$388',\n",
       "  'extracted_lowest': 388,\n",
       "  'before_taxes_fees': '$329',\n",
       "  'extracted_before_taxes_fees': 329},\n",
       " 'Raajkutir, Kolkata - IHCL SeleQtions': {'lowest': '$307',\n",
       "  'extracted_lowest': 307,\n",
       "  'before_taxes_fees': '$274',\n",
       "  'extracted_before_taxes_fees': 274},\n",
       " 'Barsana Boutique Hotel': {'lowest': '$183',\n",
       "  'extracted_lowest': 183,\n",
       "  'before_taxes_fees': '$160',\n",
       "  'extracted_before_taxes_fees': 160},\n",
       " 'Meraki Inn - Saltlake Kolkata': {'lowest': '$108',\n",
       "  'extracted_lowest': 108,\n",
       "  'before_taxes_fees': '$94',\n",
       "  'extracted_before_taxes_fees': 94},\n",
       " 'The Park Hotel': {'lowest': '$361',\n",
       "  'extracted_lowest': 361,\n",
       "  'before_taxes_fees': '$276',\n",
       "  'extracted_before_taxes_fees': 276},\n",
       " 'Hotel Radiant (Kolkata)': {'lowest': '$101',\n",
       "  'extracted_lowest': 101,\n",
       "  'before_taxes_fees': '$101',\n",
       "  'extracted_before_taxes_fees': 101},\n",
       " 'Peerless Hotel Kolkata': {'lowest': '$251',\n",
       "  'extracted_lowest': 251,\n",
       "  'before_taxes_fees': '$224',\n",
       "  'extracted_before_taxes_fees': 224},\n",
       " 'Hotel Hindusthan International': {'lowest': '$247',\n",
       "  'extracted_lowest': 247,\n",
       "  'before_taxes_fees': '$213',\n",
       "  'extracted_before_taxes_fees': 213},\n",
       " 'FabHotel Prime Kzar Corporate - Hotel in Sealdah, Kolkata': {'lowest': '$102',\n",
       "  'extracted_lowest': 102,\n",
       "  'before_taxes_fees': '$91',\n",
       "  'extracted_before_taxes_fees': 91},\n",
       " 'JW Marriott Hotel Kolkata': 'N/A',\n",
       " 'Aster Guest House Kolkata': {'lowest': '$145',\n",
       "  'extracted_lowest': 145,\n",
       "  'before_taxes_fees': '$127',\n",
       "  'extracted_before_taxes_fees': 127},\n",
       " 'The Panash (Hotel and Banquets)': {'lowest': '$151',\n",
       "  'extracted_lowest': 151,\n",
       "  'before_taxes_fees': '$134',\n",
       "  'extracted_before_taxes_fees': 134},\n",
       " 'Hotel Gallery 67': {'lowest': '$138',\n",
       "  'extracted_lowest': 138,\n",
       "  'before_taxes_fees': '$118',\n",
       "  'extracted_before_taxes_fees': 118},\n",
       " 'Golden Parkk Hotel': {'lowest': '$265',\n",
       "  'extracted_lowest': 265,\n",
       "  'before_taxes_fees': '$237',\n",
       "  'extracted_before_taxes_fees': 237},\n",
       " 'Roland Hotel': {'lowest': '$112',\n",
       "  'extracted_lowest': 112,\n",
       "  'before_taxes_fees': '$100',\n",
       "  'extracted_before_taxes_fees': 100},\n",
       " 'The Elgin Fairlawn - Kolkata - Heritage Hotel (Since 1783)': {'lowest': '$308',\n",
       "  'extracted_lowest': 308,\n",
       "  'before_taxes_fees': '$273',\n",
       "  'extracted_before_taxes_fees': 273}}"
      ]
     },
     "execution_count": 4,
     "metadata": {},
     "output_type": "execute_result"
    }
   ],
   "source": [
    "search_hotel.invoke({\"city\":\"Kolkata\",\"check_in\": \"2025-06-22\",\"check_out\":\"2025-06-26\",\"adults\": 2})"
   ]
  },
  {
   "cell_type": "code",
   "execution_count": 2,
   "id": "53919129",
   "metadata": {},
   "outputs": [
    {
     "name": "stdout",
     "output_type": "stream",
     "text": [
      "Search Local attractions...\n"
     ]
    },
    {
     "data": {
      "text/plain": [
       "{'Indian Museum': {'address': '27, Jawaharlal Nehru Rd',\n",
       "  'rating': 4.5,\n",
       "  'reviews': 54000},\n",
       " 'Howrah Bridge': {'address': 'West Bengal, India',\n",
       "  'rating': 4.6,\n",
       "  'reviews': 130000},\n",
       " 'Victoria Memorial': {'address': 'Victoria Memorial Hall, 1, Queens Way',\n",
       "  'rating': 4.6,\n",
       "  'reviews': 83000},\n",
       " \"St. Paul's Cathedral\": {'address': 'Rabindra Sadan, 1A, Cathedral Rd',\n",
       "  'rating': 4.6,\n",
       "  'reviews': 17000},\n",
       " 'James Prinsep Monument': {'address': 'Strand Rd',\n",
       "  'rating': 4.5,\n",
       "  'reviews': 39000},\n",
       " 'Birla Mandir': {'address': '29, Ashutosh Chowdary Ave',\n",
       "  'rating': 4.6,\n",
       "  'reviews': 17000},\n",
       " 'Nicco park': {'address': 'Kolkata, West Bengal, India',\n",
       "  'rating': 4.4,\n",
       "  'reviews': 5000},\n",
       " 'M.P. Birla Planetarium': {'address': \"Paul's Cathedral, 96, Jawaharlal Nehru Road, Cathedral Rd, Adjacent To St\",\n",
       "  'rating': 4.5,\n",
       "  'reviews': 6200},\n",
       " 'Millennium Park': {'address': '12, Strand Rd',\n",
       "  'rating': 4.1,\n",
       "  'reviews': 30000},\n",
       " 'Eco Park': {'address': 'Major Arterial Road(South-East, Biswa Bangla Sarani',\n",
       "  'rating': 4.5,\n",
       "  'reviews': 178000},\n",
       " 'Science City Ropeway': {'address': 'JBS Haldane Ave',\n",
       "  'rating': 4.4,\n",
       "  'reviews': 205},\n",
       " 'Dakshineswar Kali Temple': {'address': 'Kolkata, West Bengal, India',\n",
       "  'rating': 4.7,\n",
       "  'reviews': 94000},\n",
       " 'Wet O Wild': {'address': 'Street Number 27, Salt Lake Bypass',\n",
       "  'rating': 4.4,\n",
       "  'reviews': 4400},\n",
       " 'Jorasanko Thakurbari': {'address': 'Ganesh Talkies, 267, Rabindra Sarani',\n",
       "  'rating': 4.6,\n",
       "  'reviews': 14000},\n",
       " 'Muhammad Ali Park': {'address': 'H9G6+V7H, Chittaranjan Ave',\n",
       "  'rating': 4.2,\n",
       "  'reviews': 21000},\n",
       " 'Netaji Bhawan': {'address': '10, 38/2, lalalajpath rai sarani, 4A, Elgin Rd',\n",
       "  'rating': 4.7,\n",
       "  'reviews': 5900},\n",
       " 'Birla Industrial & Technological Museum': {'address': 'PHYSICS BLOCK, BIRLA INDUSTRIAL & TECHNOLOGICAL MUSEUM, 19A, Gurusaday Road Near Ballygunge Ice Skating Rink, 19a, Gurusaday Dutta Rd',\n",
       "  'rating': 4.6,\n",
       "  'reviews': 9500},\n",
       " 'Shaheed Minar': {'address': 'bus stop, Dharmtalla, Dufferin Rd',\n",
       "  'rating': 4.4,\n",
       "  'reviews': 3000},\n",
       " 'Science City': {'address': 'JBS Haldane Ave',\n",
       "  'rating': 4.4,\n",
       "  'reviews': 96000},\n",
       " 'Mohar Kunja': {'address': 'G8VW+G24, Cathedral Rd',\n",
       "  'rating': 4.4,\n",
       "  'reviews': 3500}}"
      ]
     },
     "execution_count": 2,
     "metadata": {},
     "output_type": "execute_result"
    }
   ],
   "source": [
    "search_attractions.invoke({\"city\":\"Kolkata\"})"
   ]
  },
  {
   "cell_type": "code",
   "execution_count": null,
   "id": "cbf8871e",
   "metadata": {},
   "outputs": [],
   "source": []
  }
 ],
 "metadata": {
  "kernelspec": {
   "display_name": "base",
   "language": "python",
   "name": "python3"
  },
  "language_info": {
   "codemirror_mode": {
    "name": "ipython",
    "version": 3
   },
   "file_extension": ".py",
   "mimetype": "text/x-python",
   "name": "python",
   "nbconvert_exporter": "python",
   "pygments_lexer": "ipython3",
   "version": "3.12.4"
  }
 },
 "nbformat": 4,
 "nbformat_minor": 5
}
